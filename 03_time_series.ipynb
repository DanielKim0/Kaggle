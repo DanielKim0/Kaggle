{
 "cells": [
  {
   "cell_type": "code",
   "execution_count": 4,
   "id": "fatty-vatican",
   "metadata": {},
   "outputs": [],
   "source": [
    "from datetime import datetime\n",
    "import pandas as pd\n",
    "import numpy as np\n",
    "import matplotlib.pyplot as plt\n",
    "import matplotlib as mpl\n",
    "import statsmodels as sm\n",
    "import seaborn as sns\n",
    "import pylab as pl\n",
    "\n",
    "from statsmodels.tsa.stattools import adfuller\n",
    "from statsmodels.tsa.stattools import acf, pacf\n",
    "from statsmodels.tsa.seasonal import seasonal_decompose\n",
    "from statsmodels.tsa.arima_model import ARIMA\n",
    "from matplotlib.pylab import rcParams"
   ]
  },
  {
   "cell_type": "code",
   "execution_count": 5,
   "id": "another-causing",
   "metadata": {},
   "outputs": [],
   "source": [
    "df = pd.read_csv(\"../datasets/country_vaccinations.csv\")"
   ]
  },
  {
   "cell_type": "code",
   "execution_count": 6,
   "id": "rental-calibration",
   "metadata": {},
   "outputs": [
    {
     "data": {
      "text/plain": [
       "(3396, 15)"
      ]
     },
     "execution_count": 6,
     "metadata": {},
     "output_type": "execute_result"
    }
   ],
   "source": [
    "df.shape"
   ]
  },
  {
   "cell_type": "code",
   "execution_count": 7,
   "id": "duplicate-envelope",
   "metadata": {},
   "outputs": [
    {
     "data": {
      "text/html": [
       "<div>\n",
       "<style scoped>\n",
       "    .dataframe tbody tr th:only-of-type {\n",
       "        vertical-align: middle;\n",
       "    }\n",
       "\n",
       "    .dataframe tbody tr th {\n",
       "        vertical-align: top;\n",
       "    }\n",
       "\n",
       "    .dataframe thead th {\n",
       "        text-align: right;\n",
       "    }\n",
       "</style>\n",
       "<table border=\"1\" class=\"dataframe\">\n",
       "  <thead>\n",
       "    <tr style=\"text-align: right;\">\n",
       "      <th></th>\n",
       "      <th>country</th>\n",
       "      <th>iso_code</th>\n",
       "      <th>date</th>\n",
       "      <th>total_vaccinations</th>\n",
       "      <th>people_vaccinated</th>\n",
       "      <th>people_fully_vaccinated</th>\n",
       "      <th>daily_vaccinations_raw</th>\n",
       "      <th>daily_vaccinations</th>\n",
       "      <th>total_vaccinations_per_hundred</th>\n",
       "      <th>people_vaccinated_per_hundred</th>\n",
       "      <th>people_fully_vaccinated_per_hundred</th>\n",
       "      <th>daily_vaccinations_per_million</th>\n",
       "      <th>vaccines</th>\n",
       "      <th>source_name</th>\n",
       "      <th>source_website</th>\n",
       "    </tr>\n",
       "  </thead>\n",
       "  <tbody>\n",
       "    <tr>\n",
       "      <th>0</th>\n",
       "      <td>Albania</td>\n",
       "      <td>ALB</td>\n",
       "      <td>2021-01-10</td>\n",
       "      <td>0.0</td>\n",
       "      <td>0.0</td>\n",
       "      <td>NaN</td>\n",
       "      <td>NaN</td>\n",
       "      <td>NaN</td>\n",
       "      <td>0.00</td>\n",
       "      <td>0.00</td>\n",
       "      <td>NaN</td>\n",
       "      <td>NaN</td>\n",
       "      <td>Pfizer/BioNTech</td>\n",
       "      <td>Ministry of Health</td>\n",
       "      <td>https://shendetesia.gov.al/vaksinimi-anticovid...</td>\n",
       "    </tr>\n",
       "    <tr>\n",
       "      <th>1</th>\n",
       "      <td>Albania</td>\n",
       "      <td>ALB</td>\n",
       "      <td>2021-01-11</td>\n",
       "      <td>NaN</td>\n",
       "      <td>NaN</td>\n",
       "      <td>NaN</td>\n",
       "      <td>NaN</td>\n",
       "      <td>64.0</td>\n",
       "      <td>NaN</td>\n",
       "      <td>NaN</td>\n",
       "      <td>NaN</td>\n",
       "      <td>22.0</td>\n",
       "      <td>Pfizer/BioNTech</td>\n",
       "      <td>Ministry of Health</td>\n",
       "      <td>https://shendetesia.gov.al/vaksinimi-anticovid...</td>\n",
       "    </tr>\n",
       "    <tr>\n",
       "      <th>2</th>\n",
       "      <td>Albania</td>\n",
       "      <td>ALB</td>\n",
       "      <td>2021-01-12</td>\n",
       "      <td>128.0</td>\n",
       "      <td>128.0</td>\n",
       "      <td>NaN</td>\n",
       "      <td>NaN</td>\n",
       "      <td>64.0</td>\n",
       "      <td>0.00</td>\n",
       "      <td>0.00</td>\n",
       "      <td>NaN</td>\n",
       "      <td>22.0</td>\n",
       "      <td>Pfizer/BioNTech</td>\n",
       "      <td>Ministry of Health</td>\n",
       "      <td>https://shendetesia.gov.al/vaksinimi-anticovid...</td>\n",
       "    </tr>\n",
       "    <tr>\n",
       "      <th>3</th>\n",
       "      <td>Albania</td>\n",
       "      <td>ALB</td>\n",
       "      <td>2021-01-13</td>\n",
       "      <td>188.0</td>\n",
       "      <td>188.0</td>\n",
       "      <td>NaN</td>\n",
       "      <td>60.0</td>\n",
       "      <td>63.0</td>\n",
       "      <td>0.01</td>\n",
       "      <td>0.01</td>\n",
       "      <td>NaN</td>\n",
       "      <td>22.0</td>\n",
       "      <td>Pfizer/BioNTech</td>\n",
       "      <td>Ministry of Health</td>\n",
       "      <td>https://shendetesia.gov.al/vaksinimi-anticovid...</td>\n",
       "    </tr>\n",
       "    <tr>\n",
       "      <th>4</th>\n",
       "      <td>Albania</td>\n",
       "      <td>ALB</td>\n",
       "      <td>2021-01-14</td>\n",
       "      <td>266.0</td>\n",
       "      <td>266.0</td>\n",
       "      <td>NaN</td>\n",
       "      <td>78.0</td>\n",
       "      <td>66.0</td>\n",
       "      <td>0.01</td>\n",
       "      <td>0.01</td>\n",
       "      <td>NaN</td>\n",
       "      <td>23.0</td>\n",
       "      <td>Pfizer/BioNTech</td>\n",
       "      <td>Ministry of Health</td>\n",
       "      <td>https://shendetesia.gov.al/vaksinimi-anticovid...</td>\n",
       "    </tr>\n",
       "  </tbody>\n",
       "</table>\n",
       "</div>"
      ],
      "text/plain": [
       "   country iso_code        date  total_vaccinations  people_vaccinated  \\\n",
       "0  Albania      ALB  2021-01-10                 0.0                0.0   \n",
       "1  Albania      ALB  2021-01-11                 NaN                NaN   \n",
       "2  Albania      ALB  2021-01-12               128.0              128.0   \n",
       "3  Albania      ALB  2021-01-13               188.0              188.0   \n",
       "4  Albania      ALB  2021-01-14               266.0              266.0   \n",
       "\n",
       "   people_fully_vaccinated  daily_vaccinations_raw  daily_vaccinations  \\\n",
       "0                      NaN                     NaN                 NaN   \n",
       "1                      NaN                     NaN                64.0   \n",
       "2                      NaN                     NaN                64.0   \n",
       "3                      NaN                    60.0                63.0   \n",
       "4                      NaN                    78.0                66.0   \n",
       "\n",
       "   total_vaccinations_per_hundred  people_vaccinated_per_hundred  \\\n",
       "0                            0.00                           0.00   \n",
       "1                             NaN                            NaN   \n",
       "2                            0.00                           0.00   \n",
       "3                            0.01                           0.01   \n",
       "4                            0.01                           0.01   \n",
       "\n",
       "   people_fully_vaccinated_per_hundred  daily_vaccinations_per_million  \\\n",
       "0                                  NaN                             NaN   \n",
       "1                                  NaN                            22.0   \n",
       "2                                  NaN                            22.0   \n",
       "3                                  NaN                            22.0   \n",
       "4                                  NaN                            23.0   \n",
       "\n",
       "          vaccines         source_name  \\\n",
       "0  Pfizer/BioNTech  Ministry of Health   \n",
       "1  Pfizer/BioNTech  Ministry of Health   \n",
       "2  Pfizer/BioNTech  Ministry of Health   \n",
       "3  Pfizer/BioNTech  Ministry of Health   \n",
       "4  Pfizer/BioNTech  Ministry of Health   \n",
       "\n",
       "                                      source_website  \n",
       "0  https://shendetesia.gov.al/vaksinimi-anticovid...  \n",
       "1  https://shendetesia.gov.al/vaksinimi-anticovid...  \n",
       "2  https://shendetesia.gov.al/vaksinimi-anticovid...  \n",
       "3  https://shendetesia.gov.al/vaksinimi-anticovid...  \n",
       "4  https://shendetesia.gov.al/vaksinimi-anticovid...  "
      ]
     },
     "execution_count": 7,
     "metadata": {},
     "output_type": "execute_result"
    }
   ],
   "source": [
    "df.head()"
   ]
  },
  {
   "cell_type": "code",
   "execution_count": 8,
   "id": "incomplete-harvey",
   "metadata": {},
   "outputs": [
    {
     "name": "stdout",
     "output_type": "stream",
     "text": [
      "<class 'pandas.core.frame.DataFrame'>\n",
      "RangeIndex: 3396 entries, 0 to 3395\n",
      "Data columns (total 15 columns):\n",
      " #   Column                               Non-Null Count  Dtype  \n",
      "---  ------                               --------------  -----  \n",
      " 0   country                              3396 non-null   object \n",
      " 1   iso_code                             3132 non-null   object \n",
      " 2   date                                 3396 non-null   object \n",
      " 3   total_vaccinations                   2225 non-null   float64\n",
      " 4   people_vaccinated                    1833 non-null   float64\n",
      " 5   people_fully_vaccinated              1186 non-null   float64\n",
      " 6   daily_vaccinations_raw               1861 non-null   float64\n",
      " 7   daily_vaccinations                   3264 non-null   float64\n",
      " 8   total_vaccinations_per_hundred       2225 non-null   float64\n",
      " 9   people_vaccinated_per_hundred        1833 non-null   float64\n",
      " 10  people_fully_vaccinated_per_hundred  1186 non-null   float64\n",
      " 11  daily_vaccinations_per_million       3264 non-null   float64\n",
      " 12  vaccines                             3396 non-null   object \n",
      " 13  source_name                          3396 non-null   object \n",
      " 14  source_website                       3396 non-null   object \n",
      "dtypes: float64(9), object(6)\n",
      "memory usage: 398.1+ KB\n"
     ]
    }
   ],
   "source": [
    "df.info()"
   ]
  },
  {
   "cell_type": "code",
   "execution_count": 9,
   "id": "included-glass",
   "metadata": {},
   "outputs": [],
   "source": [
    "df = df.dropna(subset=[\"iso_code\"])"
   ]
  },
  {
   "cell_type": "code",
   "execution_count": 10,
   "id": "respected-particle",
   "metadata": {},
   "outputs": [
    {
     "data": {
      "text/html": [
       "<div>\n",
       "<style scoped>\n",
       "    .dataframe tbody tr th:only-of-type {\n",
       "        vertical-align: middle;\n",
       "    }\n",
       "\n",
       "    .dataframe tbody tr th {\n",
       "        vertical-align: top;\n",
       "    }\n",
       "\n",
       "    .dataframe thead th {\n",
       "        text-align: right;\n",
       "    }\n",
       "</style>\n",
       "<table border=\"1\" class=\"dataframe\">\n",
       "  <thead>\n",
       "    <tr style=\"text-align: right;\">\n",
       "      <th></th>\n",
       "      <th>total_vaccinations</th>\n",
       "      <th>people_vaccinated</th>\n",
       "      <th>people_fully_vaccinated</th>\n",
       "      <th>daily_vaccinations_raw</th>\n",
       "      <th>daily_vaccinations</th>\n",
       "      <th>total_vaccinations_per_hundred</th>\n",
       "      <th>people_vaccinated_per_hundred</th>\n",
       "      <th>people_fully_vaccinated_per_hundred</th>\n",
       "      <th>daily_vaccinations_per_million</th>\n",
       "    </tr>\n",
       "  </thead>\n",
       "  <tbody>\n",
       "    <tr>\n",
       "      <th>count</th>\n",
       "      <td>2.061000e+03</td>\n",
       "      <td>1.669000e+03</td>\n",
       "      <td>1.034000e+03</td>\n",
       "      <td>1.719000e+03</td>\n",
       "      <td>3.004000e+03</td>\n",
       "      <td>2061.000000</td>\n",
       "      <td>1669.000000</td>\n",
       "      <td>1034.000000</td>\n",
       "      <td>3004.000000</td>\n",
       "    </tr>\n",
       "    <tr>\n",
       "      <th>mean</th>\n",
       "      <td>1.360520e+06</td>\n",
       "      <td>1.109039e+06</td>\n",
       "      <td>3.887040e+05</td>\n",
       "      <td>6.984704e+04</td>\n",
       "      <td>5.644402e+04</td>\n",
       "      <td>5.290602</td>\n",
       "      <td>4.356836</td>\n",
       "      <td>1.813075</td>\n",
       "      <td>2107.076565</td>\n",
       "    </tr>\n",
       "    <tr>\n",
       "      <th>std</th>\n",
       "      <td>4.744984e+06</td>\n",
       "      <td>3.916269e+06</td>\n",
       "      <td>1.390851e+06</td>\n",
       "      <td>2.058974e+05</td>\n",
       "      <td>1.816544e+05</td>\n",
       "      <td>11.046399</td>\n",
       "      <td>8.164375</td>\n",
       "      <td>4.572774</td>\n",
       "      <td>3831.038317</td>\n",
       "    </tr>\n",
       "    <tr>\n",
       "      <th>min</th>\n",
       "      <td>0.000000e+00</td>\n",
       "      <td>0.000000e+00</td>\n",
       "      <td>1.000000e+00</td>\n",
       "      <td>0.000000e+00</td>\n",
       "      <td>1.000000e+00</td>\n",
       "      <td>0.000000</td>\n",
       "      <td>0.000000</td>\n",
       "      <td>0.000000</td>\n",
       "      <td>0.000000</td>\n",
       "    </tr>\n",
       "    <tr>\n",
       "      <th>25%</th>\n",
       "      <td>2.535600e+04</td>\n",
       "      <td>2.294400e+04</td>\n",
       "      <td>9.157500e+03</td>\n",
       "      <td>1.611000e+03</td>\n",
       "      <td>1.121000e+03</td>\n",
       "      <td>0.490000</td>\n",
       "      <td>0.490000</td>\n",
       "      <td>0.130000</td>\n",
       "      <td>314.000000</td>\n",
       "    </tr>\n",
       "    <tr>\n",
       "      <th>50%</th>\n",
       "      <td>1.563100e+05</td>\n",
       "      <td>1.321050e+05</td>\n",
       "      <td>4.225950e+04</td>\n",
       "      <td>9.146000e+03</td>\n",
       "      <td>5.580500e+03</td>\n",
       "      <td>1.980000</td>\n",
       "      <td>2.030000</td>\n",
       "      <td>0.655000</td>\n",
       "      <td>937.000000</td>\n",
       "    </tr>\n",
       "    <tr>\n",
       "      <th>75%</th>\n",
       "      <td>6.769030e+05</td>\n",
       "      <td>5.549240e+05</td>\n",
       "      <td>1.740835e+05</td>\n",
       "      <td>5.370700e+04</td>\n",
       "      <td>2.667000e+04</td>\n",
       "      <td>4.510000</td>\n",
       "      <td>3.390000</td>\n",
       "      <td>1.430000</td>\n",
       "      <td>1690.750000</td>\n",
       "    </tr>\n",
       "    <tr>\n",
       "      <th>max</th>\n",
       "      <td>5.628183e+07</td>\n",
       "      <td>4.026801e+07</td>\n",
       "      <td>1.547154e+07</td>\n",
       "      <td>2.242472e+06</td>\n",
       "      <td>1.916190e+06</td>\n",
       "      <td>80.240000</td>\n",
       "      <td>48.270000</td>\n",
       "      <td>31.970000</td>\n",
       "      <td>30869.000000</td>\n",
       "    </tr>\n",
       "  </tbody>\n",
       "</table>\n",
       "</div>"
      ],
      "text/plain": [
       "       total_vaccinations  people_vaccinated  people_fully_vaccinated  \\\n",
       "count        2.061000e+03       1.669000e+03             1.034000e+03   \n",
       "mean         1.360520e+06       1.109039e+06             3.887040e+05   \n",
       "std          4.744984e+06       3.916269e+06             1.390851e+06   \n",
       "min          0.000000e+00       0.000000e+00             1.000000e+00   \n",
       "25%          2.535600e+04       2.294400e+04             9.157500e+03   \n",
       "50%          1.563100e+05       1.321050e+05             4.225950e+04   \n",
       "75%          6.769030e+05       5.549240e+05             1.740835e+05   \n",
       "max          5.628183e+07       4.026801e+07             1.547154e+07   \n",
       "\n",
       "       daily_vaccinations_raw  daily_vaccinations  \\\n",
       "count            1.719000e+03        3.004000e+03   \n",
       "mean             6.984704e+04        5.644402e+04   \n",
       "std              2.058974e+05        1.816544e+05   \n",
       "min              0.000000e+00        1.000000e+00   \n",
       "25%              1.611000e+03        1.121000e+03   \n",
       "50%              9.146000e+03        5.580500e+03   \n",
       "75%              5.370700e+04        2.667000e+04   \n",
       "max              2.242472e+06        1.916190e+06   \n",
       "\n",
       "       total_vaccinations_per_hundred  people_vaccinated_per_hundred  \\\n",
       "count                     2061.000000                    1669.000000   \n",
       "mean                         5.290602                       4.356836   \n",
       "std                         11.046399                       8.164375   \n",
       "min                          0.000000                       0.000000   \n",
       "25%                          0.490000                       0.490000   \n",
       "50%                          1.980000                       2.030000   \n",
       "75%                          4.510000                       3.390000   \n",
       "max                         80.240000                      48.270000   \n",
       "\n",
       "       people_fully_vaccinated_per_hundred  daily_vaccinations_per_million  \n",
       "count                          1034.000000                     3004.000000  \n",
       "mean                              1.813075                     2107.076565  \n",
       "std                               4.572774                     3831.038317  \n",
       "min                               0.000000                        0.000000  \n",
       "25%                               0.130000                      314.000000  \n",
       "50%                               0.655000                      937.000000  \n",
       "75%                               1.430000                     1690.750000  \n",
       "max                              31.970000                    30869.000000  "
      ]
     },
     "execution_count": 10,
     "metadata": {},
     "output_type": "execute_result"
    }
   ],
   "source": [
    "df.describe()"
   ]
  },
  {
   "cell_type": "code",
   "execution_count": 11,
   "id": "senior-saver",
   "metadata": {},
   "outputs": [
    {
     "data": {
      "text/plain": [
       "array(['ALB', 'DZA', 'AND', 'AIA', 'ARG', 'AUT', 'AZE', 'BHR', 'BGD',\n",
       "       'BEL', 'BMU', 'BOL', 'BRA', 'BGR', 'KHM', 'CAN', 'CYM', 'CHL',\n",
       "       'CHN', 'COL', 'CRI', 'HRV', 'CYP', 'CZE', 'DNK', 'DOM', 'ECU',\n",
       "       'EGY', 'EST', 'FRO', 'FIN', 'FRA', 'DEU', 'GIB', 'GRC', 'GRL',\n",
       "       'GGY', 'GUY', 'HUN', 'ISL', 'IND', 'IDN', 'IRN', 'IRL', 'IMN',\n",
       "       'ISR', 'ITA', 'JPN', 'JEY', 'KWT', 'LVA', 'LIE', 'LTU', 'LUX',\n",
       "       'MDV', 'MLT', 'MUS', 'MEX', 'MCO', 'MAR', 'MMR', 'NPL', 'NLD',\n",
       "       'OWID_NCY', 'NOR', 'OMN', 'PAK', 'PAN', 'PER', 'POL', 'PRT', 'QAT',\n",
       "       'ROU', 'RUS', 'SHN', 'SAU', 'SRB', 'SYC', 'SGP', 'SVK', 'SVN',\n",
       "       'ESP', 'LKA', 'SWE', 'CHE', 'TUR', 'TCA', 'ARE', 'GBR', 'USA'],\n",
       "      dtype=object)"
      ]
     },
     "execution_count": 11,
     "metadata": {},
     "output_type": "execute_result"
    }
   ],
   "source": [
    "df[\"iso_code\"].unique()"
   ]
  },
  {
   "cell_type": "code",
   "execution_count": 12,
   "id": "revised-integrity",
   "metadata": {},
   "outputs": [],
   "source": [
    "for col in [\"country\", \"vaccines\", \"source_name\", \"source_website\"]:\n",
    "    df = df.drop(col, axis=1)\n",
    "\n",
    "df[\"date\"] = pd.to_datetime(df[\"date\"], infer_datetime_format=True)\n",
    "df = df.set_index([\"date\"])"
   ]
  },
  {
   "cell_type": "code",
   "execution_count": 13,
   "id": "indie-testimony",
   "metadata": {},
   "outputs": [
    {
     "data": {
      "image/png": "[encoded data removed]",
      "text/plain": [
       "<Figure size 432x288 with 1 Axes>"
      ]
     },
     "metadata": {
      "needs_background": "light"
     },
     "output_type": "display_data"
    }
   ],
   "source": [
    "ax = sns.lineplot(x=\"date\", y=\"daily_vaccinations_per_million\", data=df[df[\"iso_code\"] == \"USA\"])\n",
    "plt.setp(ax.get_xticklabels(), rotation=45);"
   ]
  },
  {
   "cell_type": "code",
   "execution_count": 14,
   "id": "fifteen-yorkshire",
   "metadata": {},
   "outputs": [
    {
     "data": {
      "image/png": "[encoded data removed]",
      "text/plain": [
       "<Figure size 432x288 with 1 Axes>"
      ]
     },
     "metadata": {
      "needs_background": "light"
     },
     "output_type": "display_data"
    }
   ],
   "source": [
    "codes = ['ALB', 'DZA', 'AND', 'AIA']\n",
    "ax = sns.lineplot(x=\"date\", y=\"daily_vaccinations_per_million\", hue=\"iso_code\", data=df[df[\"iso_code\"].isin(codes)])\n",
    "plt.setp(ax.get_xticklabels(), rotation=45);"
   ]
  },
  {
   "cell_type": "code",
   "execution_count": 15,
   "id": "entire-india",
   "metadata": {},
   "outputs": [
    {
     "name": "stdout",
     "output_type": "stream",
     "text": [
      "iso_code: 0\n",
      "total_vaccinations: 1071\n",
      "people_vaccinated: 1463\n",
      "people_fully_vaccinated: 2098\n",
      "daily_vaccinations_raw: 1413\n",
      "daily_vaccinations: 128\n",
      "total_vaccinations_per_hundred: 1071\n",
      "people_vaccinated_per_hundred: 1463\n",
      "people_fully_vaccinated_per_hundred: 2098\n",
      "dvpm: 128\n"
     ]
    }
   ],
   "source": [
    "df = df.rename(columns = {\"daily_vaccinations_per_million\": \"dvpm\"})\n",
    "for column in df.columns:\n",
    "    print(f\"{column}: {df[column].isnull().values.sum()}\")"
   ]
  },
  {
   "cell_type": "code",
   "execution_count": 16,
   "id": "joint-acoustic",
   "metadata": {},
   "outputs": [],
   "source": [
    "# impute daily vaccinations per million statistic\n",
    "df[\"dvpm\"] = df.groupby('iso_code')[\"dvpm\"].transform(lambda x: x.interpolate(method=\"linear\"))\n",
    "df[\"dvpm\"] = df.groupby('iso_code')[\"dvpm\"].transform(lambda x: x.fillna(method=\"bfill\"))\n",
    "df[\"dvpm\"] = df.groupby('iso_code')[\"dvpm\"].transform(lambda x: x.fillna(method=\"ffill\"))"
   ]
  },
  {
   "cell_type": "code",
   "execution_count": 17,
   "id": "sweet-laptop",
   "metadata": {},
   "outputs": [
    {
     "data": {
      "text/html": [
       "<div>\n",
       "<style scoped>\n",
       "    .dataframe tbody tr th:only-of-type {\n",
       "        vertical-align: middle;\n",
       "    }\n",
       "\n",
       "    .dataframe tbody tr th {\n",
       "        vertical-align: top;\n",
       "    }\n",
       "\n",
       "    .dataframe thead th {\n",
       "        text-align: right;\n",
       "    }\n",
       "</style>\n",
       "<table border=\"1\" class=\"dataframe\">\n",
       "  <thead>\n",
       "    <tr style=\"text-align: right;\">\n",
       "      <th></th>\n",
       "      <th>iso_code</th>\n",
       "      <th>total_vaccinations</th>\n",
       "      <th>people_vaccinated</th>\n",
       "      <th>people_fully_vaccinated</th>\n",
       "      <th>daily_vaccinations_raw</th>\n",
       "      <th>daily_vaccinations</th>\n",
       "      <th>total_vaccinations_per_hundred</th>\n",
       "      <th>people_vaccinated_per_hundred</th>\n",
       "      <th>people_fully_vaccinated_per_hundred</th>\n",
       "      <th>dvpm</th>\n",
       "    </tr>\n",
       "    <tr>\n",
       "      <th>date</th>\n",
       "      <th></th>\n",
       "      <th></th>\n",
       "      <th></th>\n",
       "      <th></th>\n",
       "      <th></th>\n",
       "      <th></th>\n",
       "      <th></th>\n",
       "      <th></th>\n",
       "      <th></th>\n",
       "      <th></th>\n",
       "    </tr>\n",
       "  </thead>\n",
       "  <tbody>\n",
       "    <tr>\n",
       "      <th>2021-02-13</th>\n",
       "      <td>USA</td>\n",
       "      <td>50641884.0</td>\n",
       "      <td>37056122.0</td>\n",
       "      <td>13082172.0</td>\n",
       "      <td>2231326.0</td>\n",
       "      <td>1657703.0</td>\n",
       "      <td>15.14</td>\n",
       "      <td>11.08</td>\n",
       "      <td>3.91</td>\n",
       "      <td>4957.0</td>\n",
       "    </tr>\n",
       "    <tr>\n",
       "      <th>2021-02-14</th>\n",
       "      <td>USA</td>\n",
       "      <td>52884356.0</td>\n",
       "      <td>38292270.0</td>\n",
       "      <td>14077440.0</td>\n",
       "      <td>2242472.0</td>\n",
       "      <td>1667631.0</td>\n",
       "      <td>15.81</td>\n",
       "      <td>11.45</td>\n",
       "      <td>4.21</td>\n",
       "      <td>4986.0</td>\n",
       "    </tr>\n",
       "    <tr>\n",
       "      <th>2021-02-15</th>\n",
       "      <td>USA</td>\n",
       "      <td>NaN</td>\n",
       "      <td>NaN</td>\n",
       "      <td>NaN</td>\n",
       "      <td>NaN</td>\n",
       "      <td>1662106.0</td>\n",
       "      <td>NaN</td>\n",
       "      <td>NaN</td>\n",
       "      <td>NaN</td>\n",
       "      <td>4970.0</td>\n",
       "    </tr>\n",
       "    <tr>\n",
       "      <th>2021-02-16</th>\n",
       "      <td>USA</td>\n",
       "      <td>55220364.0</td>\n",
       "      <td>39670551.0</td>\n",
       "      <td>15015434.0</td>\n",
       "      <td>NaN</td>\n",
       "      <td>1716311.0</td>\n",
       "      <td>16.51</td>\n",
       "      <td>11.86</td>\n",
       "      <td>4.49</td>\n",
       "      <td>5132.0</td>\n",
       "    </tr>\n",
       "    <tr>\n",
       "      <th>2021-02-17</th>\n",
       "      <td>USA</td>\n",
       "      <td>56281827.0</td>\n",
       "      <td>40268009.0</td>\n",
       "      <td>15471536.0</td>\n",
       "      <td>1061463.0</td>\n",
       "      <td>1644551.0</td>\n",
       "      <td>16.83</td>\n",
       "      <td>12.04</td>\n",
       "      <td>4.63</td>\n",
       "      <td>4917.0</td>\n",
       "    </tr>\n",
       "  </tbody>\n",
       "</table>\n",
       "</div>"
      ],
      "text/plain": [
       "           iso_code  total_vaccinations  people_vaccinated  \\\n",
       "date                                                         \n",
       "2021-02-13      USA          50641884.0         37056122.0   \n",
       "2021-02-14      USA          52884356.0         38292270.0   \n",
       "2021-02-15      USA                 NaN                NaN   \n",
       "2021-02-16      USA          55220364.0         39670551.0   \n",
       "2021-02-17      USA          56281827.0         40268009.0   \n",
       "\n",
       "            people_fully_vaccinated  daily_vaccinations_raw  \\\n",
       "date                                                          \n",
       "2021-02-13               13082172.0               2231326.0   \n",
       "2021-02-14               14077440.0               2242472.0   \n",
       "2021-02-15                      NaN                     NaN   \n",
       "2021-02-16               15015434.0                     NaN   \n",
       "2021-02-17               15471536.0               1061463.0   \n",
       "\n",
       "            daily_vaccinations  total_vaccinations_per_hundred  \\\n",
       "date                                                             \n",
       "2021-02-13           1657703.0                           15.14   \n",
       "2021-02-14           1667631.0                           15.81   \n",
       "2021-02-15           1662106.0                             NaN   \n",
       "2021-02-16           1716311.0                           16.51   \n",
       "2021-02-17           1644551.0                           16.83   \n",
       "\n",
       "            people_vaccinated_per_hundred  \\\n",
       "date                                        \n",
       "2021-02-13                          11.08   \n",
       "2021-02-14                          11.45   \n",
       "2021-02-15                            NaN   \n",
       "2021-02-16                          11.86   \n",
       "2021-02-17                          12.04   \n",
       "\n",
       "            people_fully_vaccinated_per_hundred    dvpm  \n",
       "date                                                     \n",
       "2021-02-13                                 3.91  4957.0  \n",
       "2021-02-14                                 4.21  4986.0  \n",
       "2021-02-15                                  NaN  4970.0  \n",
       "2021-02-16                                 4.49  5132.0  \n",
       "2021-02-17                                 4.63  4917.0  "
      ]
     },
     "execution_count": 17,
     "metadata": {},
     "output_type": "execute_result"
    }
   ],
   "source": [
    "df.tail()"
   ]
  },
  {
   "cell_type": "code",
   "execution_count": 18,
   "id": "classified-findings",
   "metadata": {},
   "outputs": [
    {
     "data": {
      "text/html": [
       "<div>\n",
       "<style scoped>\n",
       "    .dataframe tbody tr th:only-of-type {\n",
       "        vertical-align: middle;\n",
       "    }\n",
       "\n",
       "    .dataframe tbody tr th {\n",
       "        vertical-align: top;\n",
       "    }\n",
       "\n",
       "    .dataframe thead th {\n",
       "        text-align: right;\n",
       "    }\n",
       "</style>\n",
       "<table border=\"1\" class=\"dataframe\">\n",
       "  <thead>\n",
       "    <tr style=\"text-align: right;\">\n",
       "      <th></th>\n",
       "      <th>iso_code</th>\n",
       "      <th>total_vaccinations</th>\n",
       "      <th>people_vaccinated</th>\n",
       "      <th>people_fully_vaccinated</th>\n",
       "      <th>daily_vaccinations_raw</th>\n",
       "      <th>daily_vaccinations</th>\n",
       "      <th>total_vaccinations_per_hundred</th>\n",
       "      <th>people_vaccinated_per_hundred</th>\n",
       "      <th>people_fully_vaccinated_per_hundred</th>\n",
       "      <th>dvpm</th>\n",
       "    </tr>\n",
       "    <tr>\n",
       "      <th>date</th>\n",
       "      <th></th>\n",
       "      <th></th>\n",
       "      <th></th>\n",
       "      <th></th>\n",
       "      <th></th>\n",
       "      <th></th>\n",
       "      <th></th>\n",
       "      <th></th>\n",
       "      <th></th>\n",
       "      <th></th>\n",
       "    </tr>\n",
       "  </thead>\n",
       "  <tbody>\n",
       "    <tr>\n",
       "      <th>2021-01-27</th>\n",
       "      <td>GRL</td>\n",
       "      <td>2584.0</td>\n",
       "      <td>2584.0</td>\n",
       "      <td>NaN</td>\n",
       "      <td>NaN</td>\n",
       "      <td>NaN</td>\n",
       "      <td>4.55</td>\n",
       "      <td>4.55</td>\n",
       "      <td>NaN</td>\n",
       "      <td>NaN</td>\n",
       "    </tr>\n",
       "    <tr>\n",
       "      <th>2021-02-03</th>\n",
       "      <td>SHN</td>\n",
       "      <td>107.0</td>\n",
       "      <td>NaN</td>\n",
       "      <td>NaN</td>\n",
       "      <td>NaN</td>\n",
       "      <td>NaN</td>\n",
       "      <td>1.76</td>\n",
       "      <td>NaN</td>\n",
       "      <td>NaN</td>\n",
       "      <td>NaN</td>\n",
       "    </tr>\n",
       "  </tbody>\n",
       "</table>\n",
       "</div>"
      ],
      "text/plain": [
       "           iso_code  total_vaccinations  people_vaccinated  \\\n",
       "date                                                         \n",
       "2021-01-27      GRL              2584.0             2584.0   \n",
       "2021-02-03      SHN               107.0                NaN   \n",
       "\n",
       "            people_fully_vaccinated  daily_vaccinations_raw  \\\n",
       "date                                                          \n",
       "2021-01-27                      NaN                     NaN   \n",
       "2021-02-03                      NaN                     NaN   \n",
       "\n",
       "            daily_vaccinations  total_vaccinations_per_hundred  \\\n",
       "date                                                             \n",
       "2021-01-27                 NaN                            4.55   \n",
       "2021-02-03                 NaN                            1.76   \n",
       "\n",
       "            people_vaccinated_per_hundred  \\\n",
       "date                                        \n",
       "2021-01-27                           4.55   \n",
       "2021-02-03                            NaN   \n",
       "\n",
       "            people_fully_vaccinated_per_hundred  dvpm  \n",
       "date                                                   \n",
       "2021-01-27                                  NaN   NaN  \n",
       "2021-02-03                                  NaN   NaN  "
      ]
     },
     "execution_count": 18,
     "metadata": {},
     "output_type": "execute_result"
    }
   ],
   "source": [
    "df[df[\"dvpm\"].isna()]"
   ]
  },
  {
   "cell_type": "code",
   "execution_count": 19,
   "id": "serial-orientation",
   "metadata": {},
   "outputs": [
    {
     "data": {
      "text/html": [
       "<div>\n",
       "<style scoped>\n",
       "    .dataframe tbody tr th:only-of-type {\n",
       "        vertical-align: middle;\n",
       "    }\n",
       "\n",
       "    .dataframe tbody tr th {\n",
       "        vertical-align: top;\n",
       "    }\n",
       "\n",
       "    .dataframe thead th {\n",
       "        text-align: right;\n",
       "    }\n",
       "</style>\n",
       "<table border=\"1\" class=\"dataframe\">\n",
       "  <thead>\n",
       "    <tr style=\"text-align: right;\">\n",
       "      <th></th>\n",
       "      <th>iso_code</th>\n",
       "      <th>total_vaccinations</th>\n",
       "      <th>people_vaccinated</th>\n",
       "      <th>people_fully_vaccinated</th>\n",
       "      <th>daily_vaccinations_raw</th>\n",
       "      <th>daily_vaccinations</th>\n",
       "      <th>total_vaccinations_per_hundred</th>\n",
       "      <th>people_vaccinated_per_hundred</th>\n",
       "      <th>people_fully_vaccinated_per_hundred</th>\n",
       "      <th>dvpm</th>\n",
       "    </tr>\n",
       "    <tr>\n",
       "      <th>date</th>\n",
       "      <th></th>\n",
       "      <th></th>\n",
       "      <th></th>\n",
       "      <th></th>\n",
       "      <th></th>\n",
       "      <th></th>\n",
       "      <th></th>\n",
       "      <th></th>\n",
       "      <th></th>\n",
       "      <th></th>\n",
       "    </tr>\n",
       "  </thead>\n",
       "  <tbody>\n",
       "    <tr>\n",
       "      <th>2021-01-27</th>\n",
       "      <td>GRL</td>\n",
       "      <td>2584.0</td>\n",
       "      <td>2584.0</td>\n",
       "      <td>NaN</td>\n",
       "      <td>NaN</td>\n",
       "      <td>NaN</td>\n",
       "      <td>4.55</td>\n",
       "      <td>4.55</td>\n",
       "      <td>NaN</td>\n",
       "      <td>NaN</td>\n",
       "    </tr>\n",
       "    <tr>\n",
       "      <th>2021-02-03</th>\n",
       "      <td>SHN</td>\n",
       "      <td>107.0</td>\n",
       "      <td>NaN</td>\n",
       "      <td>NaN</td>\n",
       "      <td>NaN</td>\n",
       "      <td>NaN</td>\n",
       "      <td>1.76</td>\n",
       "      <td>NaN</td>\n",
       "      <td>NaN</td>\n",
       "      <td>NaN</td>\n",
       "    </tr>\n",
       "  </tbody>\n",
       "</table>\n",
       "</div>"
      ],
      "text/plain": [
       "           iso_code  total_vaccinations  people_vaccinated  \\\n",
       "date                                                         \n",
       "2021-01-27      GRL              2584.0             2584.0   \n",
       "2021-02-03      SHN               107.0                NaN   \n",
       "\n",
       "            people_fully_vaccinated  daily_vaccinations_raw  \\\n",
       "date                                                          \n",
       "2021-01-27                      NaN                     NaN   \n",
       "2021-02-03                      NaN                     NaN   \n",
       "\n",
       "            daily_vaccinations  total_vaccinations_per_hundred  \\\n",
       "date                                                             \n",
       "2021-01-27                 NaN                            4.55   \n",
       "2021-02-03                 NaN                            1.76   \n",
       "\n",
       "            people_vaccinated_per_hundred  \\\n",
       "date                                        \n",
       "2021-01-27                           4.55   \n",
       "2021-02-03                            NaN   \n",
       "\n",
       "            people_fully_vaccinated_per_hundred  dvpm  \n",
       "date                                                   \n",
       "2021-01-27                                  NaN   NaN  \n",
       "2021-02-03                                  NaN   NaN  "
      ]
     },
     "execution_count": 19,
     "metadata": {},
     "output_type": "execute_result"
    }
   ],
   "source": [
    "df[df[\"iso_code\"].isin([\"GRL\", \"SHN\"])]"
   ]
  },
  {
   "cell_type": "code",
   "execution_count": 20,
   "id": "narrow-continent",
   "metadata": {},
   "outputs": [],
   "source": [
    "# remove the two NA rows and we are now good to go with our analysis!\n",
    "df = df[~df[\"dvpm\"].isna()]"
   ]
  },
  {
   "cell_type": "code",
   "execution_count": 29,
   "id": "determined-inflation",
   "metadata": {},
   "outputs": [],
   "source": [
    "# various statistics for vaccinations in the US\n",
    "usa = df[df[\"iso_code\"] == \"USA\"][\"dvpm\"]\n",
    "rolmean = usa.rolling(window=5).mean()\n",
    "rolstd = usa.rolling(window=5).std()"
   ]
  },
  {
   "cell_type": "code",
   "execution_count": 37,
   "id": "broken-commodity",
   "metadata": {},
   "outputs": [
    {
     "data": {
      "image/png": "[encoded data removed]",
      "text/plain": [
       "<Figure size 432x288 with 1 Axes>"
      ]
     },
     "metadata": {
      "needs_background": "light"
     },
     "output_type": "display_data"
    }
   ],
   "source": [
    "plt.plot(usa)\n",
    "plt.plot(rolmean)\n",
    "plt.plot(rolstd)\n",
    "plt.xticks(rotation = 45);"
   ]
  },
  {
   "cell_type": "code",
   "execution_count": 170,
   "id": "hispanic-pharmaceutical",
   "metadata": {},
   "outputs": [
    {
     "data": {
      "image/png": "[encoded data removed]",
      "text/plain": [
       "<Figure size 432x288 with 1 Axes>"
      ]
     },
     "metadata": {
      "needs_background": "light"
     },
     "output_type": "display_data"
    }
   ],
   "source": [
    "ax = sns.lineplot(x=\"date\", y=\"dvpm\", hue=\"iso_code\", data=df[df[\"iso_code\"].isin([\"FRA\", \"DEU\"])])\n",
    "plt.setp(ax.get_xticklabels(), rotation=45);"
   ]
  },
  {
   "cell_type": "code",
   "execution_count": 46,
   "id": "uniform-drilling",
   "metadata": {},
   "outputs": [
    {
     "name": "stdout",
     "output_type": "stream",
     "text": [
      "Test Statistic                 -0.406965\n",
      "p-value                         0.908929\n",
      "# Lags Used                     0.000000\n",
      "Number of Observations Used    59.000000\n",
      "Critical Value (1%)            -3.546395\n",
      "Critical Value (5%)            -2.911939\n",
      "Critical Value (10%)           -2.593652\n",
      "dtype: float64\n"
     ]
    }
   ],
   "source": [
    "def test_station(data):\n",
    "    dftest = adfuller(data, autolag='AIC')\n",
    "    dfoutput = pd.Series(dftest[0:4], index=['Test Statistic','p-value','# Lags Used','Number of Observations Used'])\n",
    "    for key,value in dftest[4].items():\n",
    "        dfoutput['Critical Value (%s)'%key] = value\n",
    "    return dfoutput\n",
    "print(test_station(usa))\n",
    "# time series is not stationary, can we make it so?"
   ]
  },
  {
   "cell_type": "code",
   "execution_count": 47,
   "id": "pressing-screw",
   "metadata": {},
   "outputs": [
    {
     "data": {
      "text/plain": [
       "[<matplotlib.lines.Line2D at 0x7f18024b8d00>]"
      ]
     },
     "execution_count": 47,
     "metadata": {},
     "output_type": "execute_result"
    },
    {
     "data": {
      "image/png": "[encoded data removed]",
      "text/plain": [
       "<Figure size 432x288 with 1 Axes>"
      ]
     },
     "metadata": {
      "needs_background": "light"
     },
     "output_type": "display_data"
    }
   ],
   "source": [
    "logmean = np.log(usa).rolling(window=5).mean()\n",
    "logstd = np.log(usa).rolling(window=5).std()\n",
    "\n",
    "plt.plot(np.log(usa))\n",
    "plt.plot(logmean)\n",
    "plt.plot(logstd)"
   ]
  },
  {
   "cell_type": "code",
   "execution_count": 48,
   "id": "diagnostic-candidate",
   "metadata": {},
   "outputs": [
    {
     "data": {
      "text/plain": [
       "Test Statistic                 -5.137758\n",
       "p-value                         0.000012\n",
       "# Lags Used                     1.000000\n",
       "Number of Observations Used    58.000000\n",
       "Critical Value (1%)            -3.548494\n",
       "Critical Value (5%)            -2.912837\n",
       "Critical Value (10%)           -2.594129\n",
       "dtype: float64"
      ]
     },
     "execution_count": 48,
     "metadata": {},
     "output_type": "execute_result"
    }
   ],
   "source": [
    "test_station(np.log(usa)) # the data is stationary now!"
   ]
  },
  {
   "cell_type": "code",
   "execution_count": 51,
   "id": "rental-bangladesh",
   "metadata": {},
   "outputs": [
    {
     "data": {
      "text/plain": [
       "[<matplotlib.lines.Line2D at 0x7f1802389d90>]"
      ]
     },
     "execution_count": 51,
     "metadata": {},
     "output_type": "execute_result"
    },
    {
     "data": {
      "image/png": "[encoded data removed]",
      "text/plain": [
       "<Figure size 432x288 with 1 Axes>"
      ]
     },
     "metadata": {
      "needs_background": "light"
     },
     "output_type": "display_data"
    }
   ],
   "source": [
    "# in case it wasn't, I'd try another transformation such as exponential decay\n",
    "exp_de = np.log(usa).ewm(halflife=5, min_periods=0, adjust=True).mean()\n",
    "plt.plot(np.log(usa))\n",
    "plt.plot(exp_de)"
   ]
  },
  {
   "cell_type": "code",
   "execution_count": 54,
   "id": "aquatic-swedish",
   "metadata": {},
   "outputs": [
    {
     "name": "stdout",
     "output_type": "stream",
     "text": [
      "Test Statistic                 -4.153211\n",
      "p-value                         0.000790\n",
      "# Lags Used                    11.000000\n",
      "Number of Observations Used    48.000000\n",
      "Critical Value (1%)            -3.574589\n",
      "Critical Value (5%)            -2.923954\n",
      "Critical Value (10%)           -2.600039\n",
      "dtype: float64\n"
     ]
    },
    {
     "data": {
      "image/png": "[encoded data removed]",
      "text/plain": [
       "<Figure size 432x288 with 1 Axes>"
      ]
     },
     "metadata": {
      "needs_background": "light"
     },
     "output_type": "display_data"
    }
   ],
   "source": [
    "expmean = exp_de.rolling(window=5).mean()\n",
    "expstd = exp_de.rolling(window=5).std()\n",
    "\n",
    "plt.plot(exp_de - exp_de.mean())\n",
    "plt.plot(expmean)\n",
    "plt.plot(expstd)\n",
    "\n",
    "print(test_station(exp_de))"
   ]
  },
  {
   "cell_type": "code",
   "execution_count": 69,
   "id": "endless-blake",
   "metadata": {},
   "outputs": [
    {
     "data": {
      "text/plain": [
       "Test Statistic                -6.209651e+00\n",
       "p-value                        5.547663e-08\n",
       "# Lags Used                    0.000000e+00\n",
       "Number of Observations Used    5.800000e+01\n",
       "Critical Value (1%)           -3.548494e+00\n",
       "Critical Value (5%)           -2.912837e+00\n",
       "Critical Value (10%)          -2.594129e+00\n",
       "dtype: float64"
      ]
     },
     "execution_count": 69,
     "metadata": {},
     "output_type": "execute_result"
    }
   ],
   "source": [
    "log_usa = np.log(usa)\n",
    "shifted = (log_usa - np.log(usa).shift()).dropna()\n",
    "test_station(shifted) # timeshift also gives us good results."
   ]
  },
  {
   "cell_type": "code",
   "execution_count": 73,
   "id": "described-bones",
   "metadata": {},
   "outputs": [
    {
     "name": "stdout",
     "output_type": "stream",
     "text": [
      "0.8659061761152309\n"
     ]
    },
    {
     "name": "stderr",
     "output_type": "stream",
     "text": [
      "/home/daniel/miniconda3/envs/kaggle/lib/python3.8/site-packages/statsmodels/tsa/base/tsa_model.py:524: ValueWarning: No frequency information was provided, so inferred frequency D will be used.\n",
      "  warnings.warn('No frequency information was'\n",
      "/home/daniel/miniconda3/envs/kaggle/lib/python3.8/site-packages/statsmodels/tsa/base/tsa_model.py:524: ValueWarning: No frequency information was provided, so inferred frequency D will be used.\n",
      "  warnings.warn('No frequency information was'\n"
     ]
    },
    {
     "data": {
      "image/png": "[encoded data removed]",
      "text/plain": [
       "<Figure size 432x288 with 1 Axes>"
      ]
     },
     "metadata": {
      "needs_background": "light"
     },
     "output_type": "display_data"
    }
   ],
   "source": [
    "model = ARIMA(log_usa, order=(2,1,0))\n",
    "results_AR = model.fit(disp=-1)\n",
    "plt.plot(results_AR.fittedvalues, color='red')\n",
    "print(np.sum((results_AR.fittedvalues - shifted)**2))"
   ]
  },
  {
   "cell_type": "code",
   "execution_count": 74,
   "id": "dietary-spotlight",
   "metadata": {},
   "outputs": [
    {
     "name": "stderr",
     "output_type": "stream",
     "text": [
      "/home/daniel/miniconda3/envs/kaggle/lib/python3.8/site-packages/statsmodels/tsa/base/tsa_model.py:524: ValueWarning: No frequency information was provided, so inferred frequency D will be used.\n",
      "  warnings.warn('No frequency information was'\n",
      "/home/daniel/miniconda3/envs/kaggle/lib/python3.8/site-packages/statsmodels/tsa/base/tsa_model.py:524: ValueWarning: No frequency information was provided, so inferred frequency D will be used.\n",
      "  warnings.warn('No frequency information was'\n"
     ]
    },
    {
     "name": "stdout",
     "output_type": "stream",
     "text": [
      "0.7308368754013392\n"
     ]
    },
    {
     "data": {
      "image/png": "[encoded data removed]",
      "text/plain": [
       "<Figure size 432x288 with 1 Axes>"
      ]
     },
     "metadata": {
      "needs_background": "light"
     },
     "output_type": "display_data"
    }
   ],
   "source": [
    "model = ARIMA(log_usa, order=(0, 1, 2))\n",
    "results_MA = model.fit(disp=-1)\n",
    "plt.plot(results_MA.fittedvalues, color='red')\n",
    "print(np.sum((results_MA.fittedvalues - shifted)**2))"
   ]
  },
  {
   "cell_type": "markdown",
   "id": "activated-future",
   "metadata": {},
   "source": [
    "model = ARIMA(np.log(usa), (2, 1, 2))\n",
    "results_ARIMA = model.fit()\n",
    "plt.plot(results.fittedvalues)\n",
    "print(np.sum((results_ARIMA.fittedvalues - shifted)**2))"
   ]
  },
  {
   "cell_type": "code",
   "execution_count": 119,
   "id": "southeast-grave",
   "metadata": {},
   "outputs": [
    {
     "name": "stderr",
     "output_type": "stream",
     "text": [
      "/home/daniel/miniconda3/envs/kaggle/lib/python3.8/site-packages/statsmodels/tsa/arima_model.py:472: FutureWarning: \n",
      "statsmodels.tsa.arima_model.ARMA and statsmodels.tsa.arima_model.ARIMA have\n",
      "been deprecated in favor of statsmodels.tsa.arima.model.ARIMA (note the .\n",
      "between arima and model) and\n",
      "statsmodels.tsa.SARIMAX. These will be removed after the 0.12 release.\n",
      "\n",
      "statsmodels.tsa.arima.model.ARIMA makes use of the statespace framework and\n",
      "is both well tested and maintained.\n",
      "\n",
      "To silence this warning and continue using ARMA and ARIMA until they are\n",
      "removed, use:\n",
      "\n",
      "import warnings\n",
      "warnings.filterwarnings('ignore', 'statsmodels.tsa.arima_model.ARMA',\n",
      "                        FutureWarning)\n",
      "warnings.filterwarnings('ignore', 'statsmodels.tsa.arima_model.ARIMA',\n",
      "                        FutureWarning)\n",
      "\n",
      "  warnings.warn(ARIMA_DEPRECATION_WARN, FutureWarning)\n",
      "/home/daniel/miniconda3/envs/kaggle/lib/python3.8/site-packages/statsmodels/tsa/base/tsa_model.py:524: ValueWarning: No frequency information was provided, so inferred frequency D will be used.\n",
      "  warnings.warn('No frequency information was'\n",
      "/home/daniel/miniconda3/envs/kaggle/lib/python3.8/site-packages/statsmodels/tsa/base/tsa_model.py:524: ValueWarning: No frequency information was provided, so inferred frequency D will be used.\n",
      "  warnings.warn('No frequency information was'\n",
      "/home/daniel/miniconda3/envs/kaggle/lib/python3.8/site-packages/statsmodels/tsa/arima_model.py:472: FutureWarning: \n",
      "statsmodels.tsa.arima_model.ARMA and statsmodels.tsa.arima_model.ARIMA have\n",
      "been deprecated in favor of statsmodels.tsa.arima.model.ARIMA (note the .\n",
      "between arima and model) and\n",
      "statsmodels.tsa.SARIMAX. These will be removed after the 0.12 release.\n",
      "\n",
      "statsmodels.tsa.arima.model.ARIMA makes use of the statespace framework and\n",
      "is both well tested and maintained.\n",
      "\n",
      "To silence this warning and continue using ARMA and ARIMA until they are\n",
      "removed, use:\n",
      "\n",
      "import warnings\n",
      "warnings.filterwarnings('ignore', 'statsmodels.tsa.arima_model.ARMA',\n",
      "                        FutureWarning)\n",
      "warnings.filterwarnings('ignore', 'statsmodels.tsa.arima_model.ARIMA',\n",
      "                        FutureWarning)\n",
      "\n",
      "  warnings.warn(ARIMA_DEPRECATION_WARN, FutureWarning)\n"
     ]
    },
    {
     "data": {
      "text/plain": [
       "9053238.393146368"
      ]
     },
     "execution_count": 119,
     "metadata": {},
     "output_type": "execute_result"
    },
    {
     "data": {
      "image/png": "[encoded data removed]",
      "text/plain": [
       "<Figure size 432x288 with 1 Axes>"
      ]
     },
     "metadata": {
      "needs_background": "light"
     },
     "output_type": "display_data"
    }
   ],
   "source": [
    "# now that we know the model works let's see how accurate it is\n",
    "model = ARIMA(log_usa[:-15], (2, 1, 2))\n",
    "results = model.fit()\n",
    "\n",
    "start = log_usa.index[-15].to_datetime64()\n",
    "end = log_usa.index[-1].to_datetime64()\n",
    "predicted = results.predict(start, end, typ=\"levels\")\n",
    "\n",
    "comb = usa[:-15].append(np.exp(predicted))\n",
    "plt.plot(comb)\n",
    "plt.plot(usa)\n",
    "mse(np.exp(predicted), np.exp(log_usa[-15:]))\n",
    "\n",
    "# keeping the data log-transformed seemed to be a mistake here; how about if we try without the transformation?"
   ]
  },
  {
   "cell_type": "code",
   "execution_count": 143,
   "id": "compressed-cedar",
   "metadata": {},
   "outputs": [
    {
     "name": "stderr",
     "output_type": "stream",
     "text": [
      "/home/daniel/miniconda3/envs/kaggle/lib/python3.8/site-packages/statsmodels/tsa/arima_model.py:472: FutureWarning: \n",
      "statsmodels.tsa.arima_model.ARMA and statsmodels.tsa.arima_model.ARIMA have\n",
      "been deprecated in favor of statsmodels.tsa.arima.model.ARIMA (note the .\n",
      "between arima and model) and\n",
      "statsmodels.tsa.SARIMAX. These will be removed after the 0.12 release.\n",
      "\n",
      "statsmodels.tsa.arima.model.ARIMA makes use of the statespace framework and\n",
      "is both well tested and maintained.\n",
      "\n",
      "To silence this warning and continue using ARMA and ARIMA until they are\n",
      "removed, use:\n",
      "\n",
      "import warnings\n",
      "warnings.filterwarnings('ignore', 'statsmodels.tsa.arima_model.ARMA',\n",
      "                        FutureWarning)\n",
      "warnings.filterwarnings('ignore', 'statsmodels.tsa.arima_model.ARIMA',\n",
      "                        FutureWarning)\n",
      "\n",
      "  warnings.warn(ARIMA_DEPRECATION_WARN, FutureWarning)\n",
      "/home/daniel/miniconda3/envs/kaggle/lib/python3.8/site-packages/statsmodels/tsa/base/tsa_model.py:524: ValueWarning: No frequency information was provided, so inferred frequency D will be used.\n",
      "  warnings.warn('No frequency information was'\n",
      "/home/daniel/miniconda3/envs/kaggle/lib/python3.8/site-packages/statsmodels/tsa/base/tsa_model.py:524: ValueWarning: No frequency information was provided, so inferred frequency D will be used.\n",
      "  warnings.warn('No frequency information was'\n",
      "/home/daniel/miniconda3/envs/kaggle/lib/python3.8/site-packages/statsmodels/tsa/arima_model.py:472: FutureWarning: \n",
      "statsmodels.tsa.arima_model.ARMA and statsmodels.tsa.arima_model.ARIMA have\n",
      "been deprecated in favor of statsmodels.tsa.arima.model.ARIMA (note the .\n",
      "between arima and model) and\n",
      "statsmodels.tsa.SARIMAX. These will be removed after the 0.12 release.\n",
      "\n",
      "statsmodels.tsa.arima.model.ARIMA makes use of the statespace framework and\n",
      "is both well tested and maintained.\n",
      "\n",
      "To silence this warning and continue using ARMA and ARIMA until they are\n",
      "removed, use:\n",
      "\n",
      "import warnings\n",
      "warnings.filterwarnings('ignore', 'statsmodels.tsa.arima_model.ARMA',\n",
      "                        FutureWarning)\n",
      "warnings.filterwarnings('ignore', 'statsmodels.tsa.arima_model.ARIMA',\n",
      "                        FutureWarning)\n",
      "\n",
      "  warnings.warn(ARIMA_DEPRECATION_WARN, FutureWarning)\n"
     ]
    },
    {
     "data": {
      "text/plain": [
       "25842.15948544368"
      ]
     },
     "execution_count": 143,
     "metadata": {},
     "output_type": "execute_result"
    },
    {
     "data": {
      "image/png": "[encoded data removed]",
      "text/plain": [
       "<Figure size 432x288 with 1 Axes>"
      ]
     },
     "metadata": {
      "needs_background": "light"
     },
     "output_type": "display_data"
    }
   ],
   "source": [
    "from sklearn.metrics import mean_squared_error as mse\n",
    "\n",
    "model = ARIMA(usa[:-15], (2, 1, 2))\n",
    "results = model.fit()\n",
    "\n",
    "start = usa.index[-15].to_datetime64()\n",
    "end = usa.index[-1].to_datetime64()\n",
    "predicted = results.predict(start, end, typ=\"levels\")\n",
    "\n",
    "comb = usa[:-15].append(predicted)\n",
    "plt.plot(comb)\n",
    "plt.plot(usa)\n",
    "\n",
    "mse(predicted, usa[-15:])"
   ]
  },
  {
   "cell_type": "code",
   "execution_count": 154,
   "id": "collective-pocket",
   "metadata": {},
   "outputs": [
    {
     "name": "stderr",
     "output_type": "stream",
     "text": [
      "/home/daniel/miniconda3/envs/kaggle/lib/python3.8/site-packages/statsmodels/tsa/arima_model.py:472: FutureWarning: \n",
      "statsmodels.tsa.arima_model.ARMA and statsmodels.tsa.arima_model.ARIMA have\n",
      "been deprecated in favor of statsmodels.tsa.arima.model.ARIMA (note the .\n",
      "between arima and model) and\n",
      "statsmodels.tsa.SARIMAX. These will be removed after the 0.12 release.\n",
      "\n",
      "statsmodels.tsa.arima.model.ARIMA makes use of the statespace framework and\n",
      "is both well tested and maintained.\n",
      "\n",
      "To silence this warning and continue using ARMA and ARIMA until they are\n",
      "removed, use:\n",
      "\n",
      "import warnings\n",
      "warnings.filterwarnings('ignore', 'statsmodels.tsa.arima_model.ARMA',\n",
      "                        FutureWarning)\n",
      "warnings.filterwarnings('ignore', 'statsmodels.tsa.arima_model.ARIMA',\n",
      "                        FutureWarning)\n",
      "\n",
      "  warnings.warn(ARIMA_DEPRECATION_WARN, FutureWarning)\n",
      "/home/daniel/miniconda3/envs/kaggle/lib/python3.8/site-packages/statsmodels/tsa/base/tsa_model.py:524: ValueWarning: No frequency information was provided, so inferred frequency D will be used.\n",
      "  warnings.warn('No frequency information was'\n",
      "/home/daniel/miniconda3/envs/kaggle/lib/python3.8/site-packages/statsmodels/tsa/base/tsa_model.py:524: ValueWarning: No frequency information was provided, so inferred frequency D will be used.\n",
      "  warnings.warn('No frequency information was'\n",
      "/home/daniel/miniconda3/envs/kaggle/lib/python3.8/site-packages/statsmodels/base/model.py:547: HessianInversionWarning: Inverting hessian failed, no bse or cov_params available\n",
      "  warnings.warn('Inverting hessian failed, no bse or cov_params '\n",
      "/home/daniel/miniconda3/envs/kaggle/lib/python3.8/site-packages/statsmodels/tsa/arima_model.py:472: FutureWarning: \n",
      "statsmodels.tsa.arima_model.ARMA and statsmodels.tsa.arima_model.ARIMA have\n",
      "been deprecated in favor of statsmodels.tsa.arima.model.ARIMA (note the .\n",
      "between arima and model) and\n",
      "statsmodels.tsa.SARIMAX. These will be removed after the 0.12 release.\n",
      "\n",
      "statsmodels.tsa.arima.model.ARIMA makes use of the statespace framework and\n",
      "is both well tested and maintained.\n",
      "\n",
      "To silence this warning and continue using ARMA and ARIMA until they are\n",
      "removed, use:\n",
      "\n",
      "import warnings\n",
      "warnings.filterwarnings('ignore', 'statsmodels.tsa.arima_model.ARMA',\n",
      "                        FutureWarning)\n",
      "warnings.filterwarnings('ignore', 'statsmodels.tsa.arima_model.ARIMA',\n",
      "                        FutureWarning)\n",
      "\n",
      "  warnings.warn(ARIMA_DEPRECATION_WARN, FutureWarning)\n"
     ]
    },
    {
     "data": {
      "image/png": "[encoded data removed]",
      "text/plain": [
       "<Figure size 432x288 with 1 Axes>"
      ]
     },
     "execution_count": 154,
     "metadata": {},
     "output_type": "execute_result"
    },
    {
     "data": {
      "image/png": "[encoded data removed]",
      "text/plain": [
       "<Figure size 432x288 with 1 Axes>"
      ]
     },
     "metadata": {
      "needs_background": "light"
     },
     "output_type": "display_data"
    }
   ],
   "source": [
    "model = ARIMA(usa, (2, 1, 2))\n",
    "results = model.fit()\n",
    "\n",
    "from datetime import timedelta\n",
    "\n",
    "results.plot_predict(1, 100)"
   ]
  },
  {
   "cell_type": "code",
   "execution_count": 155,
   "id": "together-parent",
   "metadata": {},
   "outputs": [
    {
     "data": {
      "image/png": "[encoded data removed]",
      "text/plain": [
       "<Figure size 432x288 with 1 Axes>"
      ]
     },
     "metadata": {
      "needs_background": "light"
     },
     "output_type": "display_data"
    }
   ],
   "source": [
    "# for vaccinations in France, how related are vaccination levels to those from a few days ago?\n",
    "\n",
    "ax = sns.lineplot(x=\"date\", y=\"dvpm\", data=df[df[\"iso_code\"] == \"FRA\"])\n",
    "plt.setp(ax.get_xticklabels(), rotation=45);"
   ]
  },
  {
   "cell_type": "code",
   "execution_count": 164,
   "id": "juvenile-belief",
   "metadata": {},
   "outputs": [
    {
     "data": {
      "image/png": "[encoded data removed]",
      "text/plain": [
       "<Figure size 432x288 with 1 Axes>"
      ]
     },
     "execution_count": 164,
     "metadata": {},
     "output_type": "execute_result"
    },
    {
     "data": {
      "image/png": "[encoded data removed]",
      "text/plain": [
       "<Figure size 432x288 with 1 Axes>"
      ]
     },
     "metadata": {
      "needs_background": "light"
     },
     "output_type": "display_data"
    }
   ],
   "source": [
    "from statsmodels.graphics.tsaplots import plot_acf, plot_pacf\n",
    "fra = df[df[\"iso_code\"] == \"FRA\"][\"dvpm\"]\n",
    "plot_acf(fra, lags=25)\n",
    "\n",
    "# not very statistically significant."
   ]
  },
  {
   "cell_type": "code",
   "execution_count": 165,
   "id": "sudden-finish",
   "metadata": {},
   "outputs": [
    {
     "data": {
      "image/png": "[encoded data removed]",
      "text/plain": [
       "<Figure size 432x288 with 1 Axes>"
      ]
     },
     "execution_count": 165,
     "metadata": {},
     "output_type": "execute_result"
    },
    {
     "data": {
      "image/png": "[encoded data removed]",
      "text/plain": [
       "<Figure size 432x288 with 1 Axes>"
      ]
     },
     "metadata": {
      "needs_background": "light"
     },
     "output_type": "display_data"
    }
   ],
   "source": [
    "# how about partial autocorrelation?\n",
    "plot_pacf(fra, lags=25)"
   ]
  },
  {
   "cell_type": "code",
   "execution_count": null,
   "id": "pressed-maximum",
   "metadata": {},
   "outputs": [],
   "source": []
  }
 ],
 "metadata": {
  "kernelspec": {
   "display_name": "kaggle",
   "language": "python",
   "name": "kaggle"
  },
  "language_info": {
   "codemirror_mode": {
    "name": "ipython",
    "version": 3
   },
   "file_extension": ".py",
   "mimetype": "text/x-python",
   "name": "python",
   "nbconvert_exporter": "python",
   "pygments_lexer": "ipython3",
   "version": "3.8.5"
  }
 },
 "nbformat": 4,
 "nbformat_minor": 5
}
